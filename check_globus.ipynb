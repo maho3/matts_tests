{
 "cells": [
  {
   "cell_type": "markdown",
   "metadata": {},
   "source": [
    "\n",
    "# Check globus sync\n",
    "This notebook analyzes and compares file synchronization between two systems, Anvil and Bridges2, by identifying files to be updated, added, or removed. It provides summary statistics, validation checks, and detailed insights into the synchronization status."
   ]
  },
  {
   "cell_type": "code",
   "execution_count": 1,
   "metadata": {},
   "outputs": [],
   "source": [
    "%load_ext autoreload\n",
    "%autoreload 2\n",
    "\n",
    "import os\n",
    "from os.path import join\n",
    "import numpy as np\n",
    "import pandas as pd\n",
    "import matplotlib.pyplot as plt\n",
    "from collections import Counter"
   ]
  },
  {
   "cell_type": "code",
   "execution_count": 1,
   "metadata": {},
   "outputs": [],
   "source": [
    "# !sbatch /home/x-mho1/git/ltu-cmass-run/jobs/check_globus_sync.sh"
   ]
  },
  {
   "cell_type": "code",
   "execution_count": 2,
   "metadata": {},
   "outputs": [
    {
     "data": {
      "text/plain": [
       "['quijotez0',\n",
       " 'logs',\n",
       " 'quijote',\n",
       " 'scratch',\n",
       " 'mtnglike',\n",
       " 'mtng',\n",
       " 'quijotelike',\n",
       " 'rundir_cmass',\n",
       " 'images',\n",
       " 'old',\n",
       " 'cmass_ngc',\n",
       " 'obs',\n",
       " 'literature',\n",
       " 'abacuslike',\n",
       " 'abacus',\n",
       " 'quijotelike-fid',\n",
       " 'subdirs.txt',\n",
       " 'quijote3gpch',\n",
       " 'shivamlike']"
      ]
     },
     "execution_count": 2,
     "metadata": {},
     "output_type": "execute_result"
    }
   ],
   "source": [
    "wdir = '/anvil/scratch/x-mho1/globus'\n",
    "os.listdir(wdir)"
   ]
  },
  {
   "cell_type": "code",
   "execution_count": 47,
   "metadata": {},
   "outputs": [],
   "source": [
    "def load_filelist(filepath):\n",
    "    df = pd.read_csv(filepath, sep='|', skipinitialspace=True, skiprows=[1])\n",
    "    df = df.map(lambda x: x.strip() if isinstance(x, str) else x)\n",
    "    df.columns = df.columns.str.strip()\n",
    "    df['Last Modified'] = pd.to_datetime(df['Last Modified'])\n",
    "    mask = df['File Type'] == 'file'\n",
    "    df = df[mask]\n",
    "    return df\n",
    "\n",
    "\n",
    "def changed(dfa, dfb):\n",
    "    # Merge the two dataframes on the 'Filename' column to compare files\n",
    "    merged_df = pd.merge(dfa, dfb, on='Filename', suffixes=(\n",
    "        '_anvil', '_bridges2'), how='inner')\n",
    "\n",
    "    # Identify files that will be changed on Bridges2\n",
    "    # A file will be changed if its 'Last Modified' timestamp or 'Size' is different\n",
    "    changed_files = merged_df[\n",
    "        (merged_df['Last Modified_anvil'] > merged_df['Last Modified_bridges2']) |\n",
    "        (merged_df['Size_anvil'] != merged_df['Size_bridges2'])\n",
    "    ]\n",
    "\n",
    "    # Display the list of files that will be changed\n",
    "    return changed_files[['Filename', 'Last Modified_anvil',\n",
    "                          'Last Modified_bridges2', 'Size_anvil', 'Size_bridges2']]\n",
    "\n",
    "\n",
    "def count_parents(df, label=''):\n",
    "    parent_dirs = df['Filename'].apply(lambda x: x.split('/')[0])\n",
    "    c = Counter(parent_dirs)\n",
    "    for k, v in c.items():\n",
    "        print(f\"{label}/{k}: {v}\")\n",
    "\n",
    "\n",
    "def missing(dfa, dfb):\n",
    "    # Identify new files in dfa that do not exist in dfb\n",
    "    new_files = dfa[~dfa['Filename'].isin(dfb['Filename'])]\n",
    "    return new_files[['Filename', 'Last Modified', 'Size']]"
   ]
  },
  {
   "cell_type": "code",
   "execution_count": 48,
   "metadata": {},
   "outputs": [
    {
     "name": "stdout",
     "output_type": "stream",
     "text": [
      "logs \t No columns to parse from file\n",
      "quijote \t No columns to parse from file\n",
      "mtnglike \t No columns to parse from file\n",
      "quijotelike \t No columns to parse from file\n",
      "abacuslike \t No columns to parse from file\n",
      "abacus \t No columns to parse from file\n",
      "shivamlike \t No columns to parse from file\n"
     ]
    }
   ],
   "source": [
    "# check all\n",
    "\n",
    "s = pd.DataFrame(columns=['sim', 'to_change', 'to_add', 'to_remove'])\n",
    "for i, sim in enumerate(os.listdir(wdir)):\n",
    "    simdir = join(wdir, sim)\n",
    "    if not os.path.isdir(simdir):\n",
    "        continue\n",
    "    try:\n",
    "        dfa = load_filelist(join(simdir, 'anvil_files.txt'))\n",
    "        dfb = load_filelist(join(simdir, 'bridges_files.txt'))\n",
    "    except Exception as e:\n",
    "        print(sim, '\\t', e)\n",
    "        continue\n",
    "\n",
    "    o1 = changed(dfa, dfb)\n",
    "    o2 = missing(dfa, dfb)\n",
    "    o3 = missing(dfb, dfa)\n",
    "    s.loc[i] = [sim, len(o1), len(o2), len(o3)]\n",
    "s = s.sort_values(by='sim')"
   ]
  },
  {
   "cell_type": "code",
   "execution_count": 49,
   "metadata": {},
   "outputs": [
    {
     "name": "stdout",
     "output_type": "stream",
     "text": [
      "When transferring from Anvil to Bridges2:\n"
     ]
    },
    {
     "data": {
      "text/html": [
       "<div>\n",
       "<style scoped>\n",
       "    .dataframe tbody tr th:only-of-type {\n",
       "        vertical-align: middle;\n",
       "    }\n",
       "\n",
       "    .dataframe tbody tr th {\n",
       "        vertical-align: top;\n",
       "    }\n",
       "\n",
       "    .dataframe thead th {\n",
       "        text-align: right;\n",
       "    }\n",
       "</style>\n",
       "<table border=\"1\" class=\"dataframe\">\n",
       "  <thead>\n",
       "    <tr style=\"text-align: right;\">\n",
       "      <th></th>\n",
       "      <th>sim</th>\n",
       "      <th>to_change</th>\n",
       "      <th>to_add</th>\n",
       "      <th>to_remove</th>\n",
       "    </tr>\n",
       "  </thead>\n",
       "  <tbody>\n",
       "    <tr>\n",
       "      <th>10</th>\n",
       "      <td>cmass_ngc</td>\n",
       "      <td>0</td>\n",
       "      <td>0</td>\n",
       "      <td>0</td>\n",
       "    </tr>\n",
       "    <tr>\n",
       "      <th>8</th>\n",
       "      <td>images</td>\n",
       "      <td>0</td>\n",
       "      <td>0</td>\n",
       "      <td>0</td>\n",
       "    </tr>\n",
       "    <tr>\n",
       "      <th>12</th>\n",
       "      <td>literature</td>\n",
       "      <td>0</td>\n",
       "      <td>0</td>\n",
       "      <td>0</td>\n",
       "    </tr>\n",
       "    <tr>\n",
       "      <th>5</th>\n",
       "      <td>mtng</td>\n",
       "      <td>0</td>\n",
       "      <td>0</td>\n",
       "      <td>0</td>\n",
       "    </tr>\n",
       "    <tr>\n",
       "      <th>11</th>\n",
       "      <td>obs</td>\n",
       "      <td>0</td>\n",
       "      <td>0</td>\n",
       "      <td>0</td>\n",
       "    </tr>\n",
       "    <tr>\n",
       "      <th>9</th>\n",
       "      <td>old</td>\n",
       "      <td>0</td>\n",
       "      <td>0</td>\n",
       "      <td>0</td>\n",
       "    </tr>\n",
       "    <tr>\n",
       "      <th>17</th>\n",
       "      <td>quijote3gpch</td>\n",
       "      <td>0</td>\n",
       "      <td>4</td>\n",
       "      <td>0</td>\n",
       "    </tr>\n",
       "    <tr>\n",
       "      <th>15</th>\n",
       "      <td>quijotelike-fid</td>\n",
       "      <td>0</td>\n",
       "      <td>0</td>\n",
       "      <td>0</td>\n",
       "    </tr>\n",
       "    <tr>\n",
       "      <th>0</th>\n",
       "      <td>quijotez0</td>\n",
       "      <td>0</td>\n",
       "      <td>0</td>\n",
       "      <td>0</td>\n",
       "    </tr>\n",
       "    <tr>\n",
       "      <th>7</th>\n",
       "      <td>rundir_cmass</td>\n",
       "      <td>0</td>\n",
       "      <td>0</td>\n",
       "      <td>0</td>\n",
       "    </tr>\n",
       "    <tr>\n",
       "      <th>3</th>\n",
       "      <td>scratch</td>\n",
       "      <td>0</td>\n",
       "      <td>2</td>\n",
       "      <td>1</td>\n",
       "    </tr>\n",
       "  </tbody>\n",
       "</table>\n",
       "</div>"
      ],
      "text/plain": [
       "                sim  to_change  to_add  to_remove\n",
       "10        cmass_ngc          0       0          0\n",
       "8            images          0       0          0\n",
       "12       literature          0       0          0\n",
       "5              mtng          0       0          0\n",
       "11              obs          0       0          0\n",
       "9               old          0       0          0\n",
       "17     quijote3gpch          0       4          0\n",
       "15  quijotelike-fid          0       0          0\n",
       "0         quijotez0          0       0          0\n",
       "7      rundir_cmass          0       0          0\n",
       "3           scratch          0       2          1"
      ]
     },
     "execution_count": 49,
     "metadata": {},
     "output_type": "execute_result"
    }
   ],
   "source": [
    "print('When transferring from Anvil to Bridges2:')\n",
    "s"
   ]
  },
  {
   "cell_type": "code",
   "execution_count": 50,
   "metadata": {},
   "outputs": [
    {
     "name": "stdout",
     "output_type": "stream",
     "text": [
      "NumAnvil: 17\n",
      "NumBridges: 17\n",
      "\n",
      "Are all filenames on anvil a subset of bridges's filenames? True\n",
      "Are all filenames on bridges a subset of anvil's filenames? True\n"
     ]
    }
   ],
   "source": [
    "dirname = 'mtng'\n",
    "simdir = join(wdir, dirname)\n",
    "\n",
    "dfa = load_filelist(join(simdir, 'anvil_files.txt'))\n",
    "dfb = load_filelist(join(simdir, 'bridges_files.txt'))\n",
    "\n",
    "print('NumAnvil:', len(dfa))\n",
    "print('NumBridges:', len(dfb))\n",
    "\n",
    "is_subset = set(dfa['Filename']).issubset(set(dfb['Filename']))\n",
    "print(\"\\nAre all filenames on anvil a subset of bridges's filenames?\", is_subset)\n",
    "\n",
    "is_subset = set(dfb['Filename']).issubset(set(dfa['Filename']))\n",
    "print(\"Are all filenames on bridges a subset of anvil's filenames?\", is_subset)"
   ]
  },
  {
   "cell_type": "code",
   "execution_count": 51,
   "metadata": {},
   "outputs": [
    {
     "name": "stdout",
     "output_type": "stream",
     "text": [
      "Files which will be changed on Bridges2:\n"
     ]
    },
    {
     "data": {
      "text/html": [
       "<div>\n",
       "<style scoped>\n",
       "    .dataframe tbody tr th:only-of-type {\n",
       "        vertical-align: middle;\n",
       "    }\n",
       "\n",
       "    .dataframe tbody tr th {\n",
       "        vertical-align: top;\n",
       "    }\n",
       "\n",
       "    .dataframe thead th {\n",
       "        text-align: right;\n",
       "    }\n",
       "</style>\n",
       "<table border=\"1\" class=\"dataframe\">\n",
       "  <thead>\n",
       "    <tr style=\"text-align: right;\">\n",
       "      <th></th>\n",
       "      <th>Filename</th>\n",
       "      <th>Last Modified_anvil</th>\n",
       "      <th>Last Modified_bridges2</th>\n",
       "      <th>Size_anvil</th>\n",
       "      <th>Size_bridges2</th>\n",
       "    </tr>\n",
       "  </thead>\n",
       "  <tbody>\n",
       "  </tbody>\n",
       "</table>\n",
       "</div>"
      ],
      "text/plain": [
       "Empty DataFrame\n",
       "Columns: [Filename, Last Modified_anvil, Last Modified_bridges2, Size_anvil, Size_bridges2]\n",
       "Index: []"
      ]
     },
     "execution_count": 51,
     "metadata": {},
     "output_type": "execute_result"
    }
   ],
   "source": [
    "print(f\"Files which will be changed on Bridges2:\")\n",
    "o = changed(dfa, dfb)\n",
    "\n",
    "count_parents(o, dirname)\n",
    "o"
   ]
  },
  {
   "cell_type": "code",
   "execution_count": 52,
   "metadata": {},
   "outputs": [
    {
     "name": "stdout",
     "output_type": "stream",
     "text": [
      "Files on Anvil that do not exist on Bridges2:\n"
     ]
    },
    {
     "data": {
      "text/html": [
       "<div>\n",
       "<style scoped>\n",
       "    .dataframe tbody tr th:only-of-type {\n",
       "        vertical-align: middle;\n",
       "    }\n",
       "\n",
       "    .dataframe tbody tr th {\n",
       "        vertical-align: top;\n",
       "    }\n",
       "\n",
       "    .dataframe thead th {\n",
       "        text-align: right;\n",
       "    }\n",
       "</style>\n",
       "<table border=\"1\" class=\"dataframe\">\n",
       "  <thead>\n",
       "    <tr style=\"text-align: right;\">\n",
       "      <th></th>\n",
       "      <th>Filename</th>\n",
       "      <th>Last Modified</th>\n",
       "      <th>Size</th>\n",
       "    </tr>\n",
       "  </thead>\n",
       "  <tbody>\n",
       "  </tbody>\n",
       "</table>\n",
       "</div>"
      ],
      "text/plain": [
       "Empty DataFrame\n",
       "Columns: [Filename, Last Modified, Size]\n",
       "Index: []"
      ]
     },
     "execution_count": 52,
     "metadata": {},
     "output_type": "execute_result"
    }
   ],
   "source": [
    "print(\"Files on Anvil that do not exist on Bridges2:\")\n",
    "o = missing(dfa, dfb)\n",
    "\n",
    "count_parents(o, dirname)\n",
    "o"
   ]
  },
  {
   "cell_type": "code",
   "execution_count": 53,
   "metadata": {},
   "outputs": [
    {
     "name": "stdout",
     "output_type": "stream",
     "text": [
      "Files on Bridges2 that do not exist on Anvil:\n"
     ]
    },
    {
     "data": {
      "text/html": [
       "<div>\n",
       "<style scoped>\n",
       "    .dataframe tbody tr th:only-of-type {\n",
       "        vertical-align: middle;\n",
       "    }\n",
       "\n",
       "    .dataframe tbody tr th {\n",
       "        vertical-align: top;\n",
       "    }\n",
       "\n",
       "    .dataframe thead th {\n",
       "        text-align: right;\n",
       "    }\n",
       "</style>\n",
       "<table border=\"1\" class=\"dataframe\">\n",
       "  <thead>\n",
       "    <tr style=\"text-align: right;\">\n",
       "      <th></th>\n",
       "      <th>Filename</th>\n",
       "      <th>Last Modified</th>\n",
       "      <th>Size</th>\n",
       "    </tr>\n",
       "  </thead>\n",
       "  <tbody>\n",
       "  </tbody>\n",
       "</table>\n",
       "</div>"
      ],
      "text/plain": [
       "Empty DataFrame\n",
       "Columns: [Filename, Last Modified, Size]\n",
       "Index: []"
      ]
     },
     "execution_count": 53,
     "metadata": {},
     "output_type": "execute_result"
    }
   ],
   "source": [
    "print(\"Files on Bridges2 that do not exist on Anvil:\")\n",
    "o = missing(dfb, dfa)\n",
    "\n",
    "count_parents(o, 'bridges2')\n",
    "o"
   ]
  },
  {
   "cell_type": "code",
   "execution_count": null,
   "metadata": {},
   "outputs": [],
   "source": []
  }
 ],
 "metadata": {
  "kernelspec": {
   "display_name": "Python 3",
   "language": "python",
   "name": "python3"
  },
  "language_info": {
   "codemirror_mode": {
    "name": "ipython",
    "version": 3
   },
   "file_extension": ".py",
   "mimetype": "text/x-python",
   "name": "python",
   "nbconvert_exporter": "python",
   "pygments_lexer": "ipython3",
   "version": "3.10.16"
  }
 },
 "nbformat": 4,
 "nbformat_minor": 2
}
