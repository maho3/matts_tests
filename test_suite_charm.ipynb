{
 "cells": [
  {
   "cell_type": "code",
   "execution_count": 2,
   "metadata": {},
   "outputs": [],
   "source": [
    "%matplotlib inline\n",
    "%load_ext autoreload\n",
    "%autoreload 2\n",
    "\n",
    "import os\n",
    "from os.path import join\n",
    "import numpy as np\n",
    "import matplotlib as mpl\n",
    "mpl.style.use('style.mcstyle')   # noqa\n",
    "from matplotlib import pyplot as plt\n",
    "import astropy\n",
    "import pandas as pd\n",
    "from astropy.io import fits\n",
    "from tqdm import tqdm\n",
    "import h5py\n",
    "\n",
    "from astropy.cosmology import Planck18\n",
    "cosmo = Planck18"
   ]
  },
  {
   "cell_type": "code",
   "execution_count": 5,
   "metadata": {},
   "outputs": [
    {
     "name": "stdout",
     "output_type": "stream",
     "text": [
      "Number of sims: 1941\n"
     ]
    }
   ],
   "source": [
    "suitedir = '/anvil/scratch/x-mho1/cmass-ili/mtnglike/fastpm/L3000-N384'\n",
    "\n",
    "dirlist = os.listdir(suitedir)\n",
    "print(f'Number of sims: {len(dirlist)}')"
   ]
  },
  {
   "cell_type": "code",
   "execution_count": 7,
   "metadata": {},
   "outputs": [
    {
     "name": "stdout",
     "output_type": "stream",
     "text": [
      "Number of halo files: 802\n"
     ]
    }
   ],
   "source": [
    "num_halos = 0\n",
    "for x in dirlist:\n",
    "    if os.path.isfile(join(suitedir, x, 'halos.h5')):\n",
    "        num_halos += 1\n",
    "print(f'Number of halo files: {num_halos}')"
   ]
  },
  {
   "cell_type": "code",
   "execution_count": 12,
   "metadata": {},
   "outputs": [
    {
     "name": "stderr",
     "output_type": "stream",
     "text": [
      "100%|██████████| 1941/1941 [00:06<00:00, 300.29it/s]"
     ]
    },
    {
     "name": "stdout",
     "output_type": "stream",
     "text": [
      "Key: 0.586220, Frequency: 802\n",
      "Key: 0.606330, Frequency: 801\n",
      "Key: 0.626440, Frequency: 800\n",
      "Key: 0.646550, Frequency: 800\n",
      "Key: 0.666660, Frequency: 800\n",
      "Key: 0.686770, Frequency: 799\n",
      "Key: 0.706880, Frequency: 795\n",
      "Key: 0.726990, Frequency: 793\n",
      "Key: 0.747100, Frequency: 788\n",
      "Key: 0.767210, Frequency: 787\n"
     ]
    },
    {
     "name": "stderr",
     "output_type": "stream",
     "text": [
      "\n"
     ]
    }
   ],
   "source": [
    "from collections import defaultdict\n",
    "\n",
    "key_frequency = defaultdict(int)\n",
    "for x in tqdm(dirlist):\n",
    "    halo_file = join(suitedir, x, 'halos.h5')\n",
    "    if os.path.isfile(halo_file):\n",
    "        with h5py.File(halo_file, 'r') as f:\n",
    "            for key in f.keys():\n",
    "                key_frequency[key] += 1\n",
    "\n",
    "for key, freq in key_frequency.items():\n",
    "    print(f'Key: {key}, Frequency: {freq}')"
   ]
  },
  {
   "cell_type": "code",
   "execution_count": 19,
   "metadata": {},
   "outputs": [
    {
     "name": "stdout",
     "output_type": "stream",
     "text": [
      "0.586220 0.606330 0.626440 0.646550 0.666660 0.686770 0.706880 0.726990 0.747100 0.767210\n"
     ]
    }
   ],
   "source": [
    "print(' '.join(list(key_frequency.keys())))"
   ]
  }
 ],
 "metadata": {
  "kernelspec": {
   "display_name": "Python 3",
   "language": "python",
   "name": "python3"
  },
  "language_info": {
   "codemirror_mode": {
    "name": "ipython",
    "version": 3
   },
   "file_extension": ".py",
   "mimetype": "text/x-python",
   "name": "python",
   "nbconvert_exporter": "python",
   "pygments_lexer": "ipython3",
   "version": "3.10.16"
  }
 },
 "nbformat": 4,
 "nbformat_minor": 2
}
